{
 "cells": [
  {
   "cell_type": "code",
   "execution_count": 7,
   "metadata": {},
   "outputs": [],
   "source": [
    "from stratopy.extractors import cloudsat\n",
    "from stratopy.extractors import goes\n",
    "from stratopy.transformers import mergers\n",
    "from stratopy.transformers import scalers"
   ]
  },
  {
   "attachments": {},
   "cell_type": "markdown",
   "metadata": {},
   "source": [
    "Download 1 band file from ABI GOES16"
   ]
  },
  {
   "cell_type": "code",
   "execution_count": 4,
   "metadata": {},
   "outputs": [],
   "source": [
    "goes_obj = goes.GOES16(product_type=\"ABI-L2-CMIPF\", channel=13)\n",
    "goes_data = goes_obj.fetch(\"2019 dec 12 15:00\")"
   ]
  },
  {
   "attachments": {},
   "cell_type": "markdown",
   "metadata": {},
   "source": [
    "Lets see one transformer. This one normalizes an ABI image to [0,1].\n",
    "\n",
    "Returns a numpy array of shape (n_bands, image_width, image_height)."
   ]
  },
  {
   "cell_type": "code",
   "execution_count": 9,
   "metadata": {},
   "outputs": [
    {
     "data": {
      "text/plain": [
       "array([0.28565142], dtype=float32)"
      ]
     },
     "execution_count": 9,
     "metadata": {},
     "output_type": "execute_result"
    }
   ],
   "source": [
    "norm_goes = scalers.MinMaxNormalize().transformer(goes_data)\n",
    "norm_goes[:,2500,2500]"
   ]
  },
  {
   "attachments": {},
   "cell_type": "markdown",
   "metadata": {},
   "source": [
    "Download a file from CloudSat."
   ]
  },
  {
   "cell_type": "code",
   "execution_count": null,
   "metadata": {},
   "outputs": [],
   "source": [
    "csat_obj = cloudsat.CloudSat(product_type=\"\", username=\"\", keyfile=, keypass=\"\")\n",
    "csat_data = csat_obj.fetch(\"2019 dec 12 15:00\")"
   ]
  },
  {
   "attachments": {},
   "cell_type": "markdown",
   "metadata": {},
   "source": [
    "Merge products"
   ]
  },
  {
   "cell_type": "code",
   "execution_count": null,
   "metadata": {},
   "outputs": [],
   "source": [
    "merged_data = mergers.MergePolarGeos(\"2019 dec 12 15:00\", \n",
    "                                     time_zone=\"UTC\", \n",
    "                                     trim_size=(3,3), \n",
    "                                     norm=True).transformer(csat_data, goes_data)"
   ]
  }
 ],
 "metadata": {
  "kernelspec": {
   "display_name": "stratopy2",
   "language": "python",
   "name": "python3"
  },
  "language_info": {
   "codemirror_mode": {
    "name": "ipython",
    "version": 3
   },
   "file_extension": ".py",
   "mimetype": "text/x-python",
   "name": "python",
   "nbconvert_exporter": "python",
   "pygments_lexer": "ipython3",
   "version": "3.8.10"
  },
  "orig_nbformat": 4
 },
 "nbformat": 4,
 "nbformat_minor": 2
}
