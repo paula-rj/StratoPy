{
 "cells": [
  {
   "cell_type": "code",
   "execution_count": 1,
   "metadata": {},
   "outputs": [],
   "source": [
    "from stratopy.extractors import cloudsat\n",
    "from stratopy.extractors import goes\n",
    "from stratopy.transformers import mergers\n",
    "from stratopy.transformers import scalers"
   ]
  },
  {
   "attachments": {},
   "cell_type": "markdown",
   "metadata": {},
   "source": [
    "Download 1 band file from ABI GOES16"
   ]
  },
  {
   "cell_type": "code",
   "execution_count": 2,
   "metadata": {},
   "outputs": [],
   "source": [
    "goes_obj = goes.GOES16(product_type=\"ABI-L2-CMIPF\", channel=13)\n",
    "goes_data = goes_obj.fetch(\"2019 dec 12 15:00\")"
   ]
  },
  {
   "attachments": {},
   "cell_type": "markdown",
   "metadata": {},
   "source": [
    "Lets see one transformer. This one normalizes an ABI image to [0,1].\n",
    "\n",
    "Returns a numpy array of shape (n_bands, image_width, image_height)."
   ]
  },
  {
   "cell_type": "code",
   "execution_count": 3,
   "metadata": {},
   "outputs": [
    {
     "ename": "AttributeError",
     "evalue": "'MinMaxNormalize' object has no attribute 'transformer'",
     "output_type": "error",
     "traceback": [
      "\u001b[0;31m---------------------------------------------------------------------------\u001b[0m",
      "\u001b[0;31mAttributeError\u001b[0m                            Traceback (most recent call last)",
      "\u001b[1;32m/home/paula/proyectos/stratopy2/src/docs/source/tutorials/dev_tutorial.ipynb Cell 5\u001b[0m in \u001b[0;36m<cell line: 1>\u001b[0;34m()\u001b[0m\n\u001b[0;32m----> <a href='vscode-notebook-cell:/home/paula/proyectos/stratopy2/src/docs/source/tutorials/dev_tutorial.ipynb#W4sZmlsZQ%3D%3D?line=0'>1</a>\u001b[0m norm_goes \u001b[39m=\u001b[39m scalers\u001b[39m.\u001b[39;49mMinMaxNormalize()\u001b[39m.\u001b[39;49mtransformer(goes_data)\n\u001b[1;32m      <a href='vscode-notebook-cell:/home/paula/proyectos/stratopy2/src/docs/source/tutorials/dev_tutorial.ipynb#W4sZmlsZQ%3D%3D?line=1'>2</a>\u001b[0m norm_goes[:,\u001b[39m2500\u001b[39m,\u001b[39m2500\u001b[39m]\n",
      "\u001b[0;31mAttributeError\u001b[0m: 'MinMaxNormalize' object has no attribute 'transformer'"
     ]
    }
   ],
   "source": [
    "norm_goes = scalers.MinMaxNormalize().transformer(goes_data)\n",
    "norm_goes[:,2500,2500]"
   ]
  },
  {
   "attachments": {},
   "cell_type": "markdown",
   "metadata": {},
   "source": [
    "Download a file from CloudSat."
   ]
  },
  {
   "cell_type": "code",
   "execution_count": null,
   "metadata": {},
   "outputs": [],
   "source": [
    "from unittest import mock\n",
    "\n",
    "with mock.patch(\"paramiko.RSAKey.from_private_key_file\", return_value=\"pkey\"):\n",
    "    with mock.patch(\"paramiko.SSHClient.connect\"):\n",
    "        cs_obj = cloudsat.CloudSat(\n",
    "        product_type=\"2B-CLDCLASS.P1_R05\",\n",
    "        username=\"fakeusr@gmail.edu\",\n",
    "        keyfile=\"some_file\",\n",
    "        )"
   ]
  },
  {
   "cell_type": "code",
   "execution_count": null,
   "metadata": {},
   "outputs": [
    {
     "data": {
      "text/plain": [
       "'/home/paula/proyectos/stratopy2/src/docs/source/tutorials'"
      ]
     },
     "execution_count": 20,
     "metadata": {},
     "output_type": "execute_result"
    }
   ],
   "source": [
    "%pwd"
   ]
  },
  {
   "cell_type": "code",
   "execution_count": null,
   "metadata": {},
   "outputs": [
    {
     "ename": "HDF4Error",
     "evalue": "SD: no such file",
     "output_type": "error",
     "traceback": [
      "\u001b[0;31m---------------------------------------------------------------------------\u001b[0m",
      "\u001b[0;31mHDF4Error\u001b[0m                                 Traceback (most recent call last)",
      "\u001b[1;32m/home/paula/proyectos/stratopy2/src/docs/source/tutorials/dev_tutorial.ipynb Cell 9\u001b[0m in \u001b[0;36m<cell line: 4>\u001b[0;34m()\u001b[0m\n\u001b[1;32m      <a href='vscode-notebook-cell:/home/paula/proyectos/stratopy2/src/docs/source/tutorials/dev_tutorial.ipynb#X14sZmlsZQ%3D%3D?line=1'>2</a>\u001b[0m sys\u001b[39m.\u001b[39mpath\u001b[39m.\u001b[39mappend(\u001b[39m\"\u001b[39m\u001b[39msrc/tests/data/CloudSat/\u001b[39m\u001b[39m\"\u001b[39m)\n\u001b[1;32m      <a href='vscode-notebook-cell:/home/paula/proyectos/stratopy2/src/docs/source/tutorials/dev_tutorial.ipynb#X14sZmlsZQ%3D%3D?line=2'>3</a>\u001b[0m CLOUDSAT_PATH \u001b[39m=\u001b[39m \u001b[39m\"\u001b[39m\u001b[39msrc/tests/data/CloudSat/2019002175851_67551_CS_2B-CLDCLASS_GRANULE_P1_R05_E08_F03.hdf\u001b[39m\u001b[39m\"\u001b[39m\n\u001b[0;32m----> <a href='vscode-notebook-cell:/home/paula/proyectos/stratopy2/src/docs/source/tutorials/dev_tutorial.ipynb#X14sZmlsZQ%3D%3D?line=3'>4</a>\u001b[0m csat_data \u001b[39m=\u001b[39m cloudsat\u001b[39m.\u001b[39;49mread_hdf4(CLOUDSAT_PATH)\n",
      "File \u001b[0;32m~/proyectos/stratopy2/src/stratopy/extractors/cloudsat.py:57\u001b[0m, in \u001b[0;36mread_hdf4\u001b[0;34m(path)\u001b[0m\n\u001b[1;32m     41\u001b[0m \u001b[39mdef\u001b[39;00m \u001b[39mread_hdf4\u001b[39m(path):\n\u001b[1;32m     42\u001b[0m     \u001b[39m\"\"\"Reads a HDF file CloudSat product and returns it as an Xarray Dataset.\u001b[39;00m\n\u001b[1;32m     43\u001b[0m \n\u001b[1;32m     44\u001b[0m \u001b[39m    Currently is only useful for 2B-CLDCLASS files.\u001b[39;00m\n\u001b[0;32m   (...)\u001b[0m\n\u001b[1;32m     55\u001b[0m \u001b[39m        and attributes of a 2B-CLDCLASS file.\u001b[39;00m\n\u001b[1;32m     56\u001b[0m \u001b[39m    \"\"\"\u001b[39;00m\n\u001b[0;32m---> 57\u001b[0m     sd_file \u001b[39m=\u001b[39m SD(path, SDC\u001b[39m.\u001b[39;49mREAD)\n\u001b[1;32m     58\u001b[0m     height \u001b[39m=\u001b[39m sd_file\u001b[39m.\u001b[39mselect(\u001b[39m\"\u001b[39m\u001b[39mHeight\u001b[39m\u001b[39m\"\u001b[39m)\u001b[39m.\u001b[39mget()\n\u001b[1;32m     59\u001b[0m     cloud_scenario \u001b[39m=\u001b[39m sd_file\u001b[39m.\u001b[39mselect(\u001b[39m\"\u001b[39m\u001b[39mcloud_scenario\u001b[39m\u001b[39m\"\u001b[39m)\u001b[39m.\u001b[39mget()\n",
      "File \u001b[0;32m~/proyectos/stratopy2/lib/python3.8/site-packages/pyhdf/SD.py:1424\u001b[0m, in \u001b[0;36mSD.__init__\u001b[0;34m(self, path, mode)\u001b[0m\n\u001b[1;32m   1422\u001b[0m         mode \u001b[39m=\u001b[39m SDC\u001b[39m.\u001b[39mREAD\n\u001b[1;32m   1423\u001b[0m     \u001b[39melse\u001b[39;00m:\n\u001b[0;32m-> 1424\u001b[0m         \u001b[39mraise\u001b[39;00m HDF4Error(\u001b[39m\"\u001b[39m\u001b[39mSD: no such file\u001b[39m\u001b[39m\"\u001b[39m)\n\u001b[1;32m   1425\u001b[0m \u001b[39melse\u001b[39;00m:\n\u001b[1;32m   1426\u001b[0m     \u001b[39mraise\u001b[39;00m HDF4Error(\u001b[39m\"\u001b[39m\u001b[39mSD: bad mode, READ or WRITE must be set\u001b[39m\u001b[39m\"\u001b[39m)\n",
      "\u001b[0;31mHDF4Error\u001b[0m: SD: no such file"
     ]
    }
   ],
   "source": [
    "import os, sys\n",
    "sys.path.append(\"src/tests/data/CloudSat/\")\n",
    "CLOUDSAT_PATH = \"src/tests/data/CloudSat/2019002175851_67551_CS_2B-CLDCLASS_GRANULE_P1_R05_E08_F03.hdf\"\n",
    "csat_data = cloudsat.read_hdf4(CLOUDSAT_PATH)"
   ]
  },
  {
   "cell_type": "code",
   "execution_count": null,
   "metadata": {},
   "outputs": [],
   "source": [
    "csat_obj = cloudsat.CloudSat(product_type=\"\", username=\"\", keyfile=, keypass=\"\")\n",
    "csat_data = csat_obj.fetch(\"2019 dec 12 15:00\")"
   ]
  },
  {
   "attachments": {},
   "cell_type": "markdown",
   "metadata": {},
   "source": [
    "Merge products"
   ]
  },
  {
   "cell_type": "code",
   "execution_count": null,
   "metadata": {},
   "outputs": [],
   "source": [
    "merged_data = mergers.MergePolarGeos(\"2019 dec 12 15:00\", \n",
    "                                     time_zone=\"UTC\", \n",
    "                                     trim_size=(3,3), \n",
    "                                     norm=True).transformer(csat_data, norm_goes)"
   ]
  }
 ],
 "metadata": {
  "kernelspec": {
   "display_name": "stratopy2",
   "language": "python",
   "name": "python3"
  },
  "language_info": {
   "codemirror_mode": {
    "name": "ipython",
    "version": 3
   },
   "file_extension": ".py",
   "mimetype": "text/x-python",
   "name": "python",
   "nbconvert_exporter": "python",
   "pygments_lexer": "ipython3",
   "version": "3.8.10"
  },
  "orig_nbformat": 4
 },
 "nbformat": 4,
 "nbformat_minor": 2
}
