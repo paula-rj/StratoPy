{
 "cells": [
  {
   "cell_type": "markdown",
   "metadata": {},
   "source": []
  },
  {
   "attachments": {},
   "cell_type": "markdown",
   "metadata": {},
   "source": [
    "To download a CloudSat file, you must have a user at CloudSat webpage. Instructions for registration and SFTP access are on [CloudSat Webpage](https://www.cloudsat.cira.colostate.edu/order/sftp-access)"
   ]
  },
  {
   "cell_type": "code",
   "execution_count": 2,
   "metadata": {},
   "outputs": [],
   "source": [
    "username=\"paula.romeroATmi.unc.edu.ar\"\n",
    "host = \"www.cloudsat.cira.colostate.edu\"\n",
    "port = 22\n",
    "password=\"2022\"\n"
   ]
  },
  {
   "cell_type": "code",
   "execution_count": 3,
   "metadata": {},
   "outputs": [
    {
     "ename": "ModuleNotFoundError",
     "evalue": "No module named 'stratopy.remote_access'",
     "output_type": "error",
     "traceback": [
      "\u001b[0;31m---------------------------------------------------------------------------\u001b[0m",
      "\u001b[0;31mModuleNotFoundError\u001b[0m                       Traceback (most recent call last)",
      "\u001b[1;32m/home/paula/proyectos/stratopy2/src/docs/source/download_cloudsat.ipynb Cell 4\u001b[0m in \u001b[0;36m<cell line: 1>\u001b[0;34m()\u001b[0m\n\u001b[0;32m----> <a href='vscode-notebook-cell:/home/paula/proyectos/stratopy2/src/docs/source/download_cloudsat.ipynb#W4sZmlsZQ%3D%3D?line=0'>1</a>\u001b[0m \u001b[39mfrom\u001b[39;00m \u001b[39mstratopy\u001b[39;00m\u001b[39m.\u001b[39;00m\u001b[39mextractors\u001b[39;00m \u001b[39mimport\u001b[39;00m cloudsat\n",
      "File \u001b[0;32m~/proyectos/stratopy2/lib/python3.8/site-packages/stratopy/__init__.py:32\u001b[0m, in \u001b[0;36m<module>\u001b[0;34m\u001b[0m\n\u001b[1;32m     29\u001b[0m \u001b[39mimport\u001b[39;00m \u001b[39mos\u001b[39;00m\n\u001b[1;32m     31\u001b[0m \u001b[39mif\u001b[39;00m os\u001b[39m.\u001b[39mgetenv(\u001b[39m\"\u001b[39m\u001b[39m__STRATOPY_IN_SETUP__\u001b[39m\u001b[39m\"\u001b[39m) \u001b[39m!=\u001b[39m \u001b[39m\"\u001b[39m\u001b[39mTrue\u001b[39m\u001b[39m\"\u001b[39m:  \u001b[39m# noqa\u001b[39;00m\n\u001b[0;32m---> 32\u001b[0m     \u001b[39mfrom\u001b[39;00m \u001b[39m.\u001b[39;00m\u001b[39mremote_access\u001b[39;00m \u001b[39mimport\u001b[39;00m GOES16  \u001b[39m# noqa\u001b[39;00m\n\u001b[1;32m     34\u001b[0m \u001b[39mdel\u001b[39;00m os\n",
      "\u001b[0;31mModuleNotFoundError\u001b[0m: No module named 'stratopy.remote_access'"
     ]
    }
   ],
   "source": [
    "from stratopy.extractors import cloudsat"
   ]
  },
  {
   "cell_type": "markdown",
   "metadata": {},
   "source": []
  },
  {
   "cell_type": "code",
   "execution_count": null,
   "metadata": {},
   "outputs": [],
   "source": [
    "csobj = cloudsat.CloudSat(product_type = \"2B-CLDCLASS.P1_R05\", username = username)"
   ]
  }
 ],
 "metadata": {
  "kernelspec": {
   "display_name": "stratopy2",
   "language": "python",
   "name": "python3"
  },
  "language_info": {
   "codemirror_mode": {
    "name": "ipython",
    "version": 3
   },
   "file_extension": ".py",
   "mimetype": "text/x-python",
   "name": "python",
   "nbconvert_exporter": "python",
   "pygments_lexer": "ipython3",
   "version": "3.8.10"
  },
  "orig_nbformat": 4
 },
 "nbformat": 4,
 "nbformat_minor": 2
}
