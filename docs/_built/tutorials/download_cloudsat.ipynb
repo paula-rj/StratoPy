{
 "cells": [
  {
   "attachments": {},
   "cell_type": "markdown",
   "metadata": {},
   "source": [
    "# Download CloudSat file\n",
    "To download a CloudSat file, you must have a user at CloudSat webpage. Instructions for registration and SFTP access are on [CloudSat Webpage](https://www.cloudsat.cira.colostate.edu/order/sftp-access)"
   ]
  },
  {
   "cell_type": "code",
   "execution_count": 12,
   "metadata": {},
   "outputs": [],
   "source": [
    "username=\"someusr@mail.com\"\n",
    "keyfile_password=\"1234\"\n"
   ]
  },
  {
   "cell_type": "code",
   "execution_count": 13,
   "metadata": {},
   "outputs": [],
   "source": [
    "from stratopy.extractors import cloudsat"
   ]
  },
  {
   "attachments": {},
   "cell_type": "markdown",
   "metadata": {},
   "source": [
    "Then we create a connection with the server. For that, we must provide:\n",
    "- The username \n",
    "- The password\n",
    "- The ssh keyfile\n",
    "- The password for the ssh file, if it is encripted\n",
    "\n",
    "If everything is ok, a connection with CloudSat server will be established and the following code should run with no further problems."
   ]
  },
  {
   "cell_type": "code",
   "execution_count": 10,
   "metadata": {},
   "outputs": [
    {
     "ename": "NameError",
     "evalue": "name 'key_password' is not defined",
     "output_type": "error",
     "traceback": [
      "\u001b[0;31m---------------------------------------------------------------------------\u001b[0m",
      "\u001b[0;31mNameError\u001b[0m                                 Traceback (most recent call last)",
      "Cell \u001b[0;32mIn[10], line 1\u001b[0m\n\u001b[0;32m----> 1\u001b[0m cs_obj \u001b[39m=\u001b[39m cloudsat\u001b[39m.\u001b[39mCloudSat(product_type\u001b[39m=\u001b[39m\u001b[39m\"\u001b[39m\u001b[39m2B-CLDCLASS.P1_R05\u001b[39m\u001b[39m\"\u001b[39m, username\u001b[39m=\u001b[39m username, keypass\u001b[39m=\u001b[39mkey_password)\n",
      "\u001b[0;31mNameError\u001b[0m: name 'key_password' is not defined"
     ]
    }
   ],
   "source": [
    "cs_obj = cloudsat.CloudSat(product_type=\"2B-CLDCLASS.P1_R05\", \n",
    "                           username= username, keypass=keyfile_password)"
   ]
  },
  {
   "attachments": {},
   "cell_type": "markdown",
   "metadata": {},
   "source": [
    "Then, you should choose a reasonable date and time to download a product.\n",
    "Remember that CloudSat was launched in 2006 and up to this day there exists 2B-CLDCLASS products until the year 2019."
   ]
  },
  {
   "cell_type": "code",
   "execution_count": null,
   "metadata": {},
   "outputs": [],
   "source": [
    "cs_file = cs_obj.fetch(\"09/jan/2019 15:29\", tzone=\"UTC\")"
   ]
  }
 ],
 "metadata": {
  "kernelspec": {
   "display_name": "stratopy2",
   "language": "python",
   "name": "python3"
  },
  "language_info": {
   "codemirror_mode": {
    "name": "ipython",
    "version": 3
   },
   "file_extension": ".py",
   "mimetype": "text/x-python",
   "name": "python",
   "nbconvert_exporter": "python",
   "pygments_lexer": "ipython3",
   "version": "3.9.16"
  }
 },
 "nbformat": 4,
 "nbformat_minor": 2
}
